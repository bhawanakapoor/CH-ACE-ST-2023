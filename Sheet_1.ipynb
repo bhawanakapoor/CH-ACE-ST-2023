{
 "cells": [
  {
   "cell_type": "markdown",
   "id": "eed0fe75",
   "metadata": {},
   "source": [
    "<b>Q1. Create a function that calculates the factorial of a given number."
   ]
  },
  {
   "cell_type": "code",
   "execution_count": null,
   "id": "f0e2871a",
   "metadata": {},
   "outputs": [],
   "source": []
  },
  {
   "cell_type": "markdown",
   "id": "0934532c",
   "metadata": {},
   "source": [
    "<b> Q2. Write a function that checks if a given number is prime."
   ]
  },
  {
   "cell_type": "code",
   "execution_count": null,
   "id": "fabdfb65",
   "metadata": {},
   "outputs": [],
   "source": []
  },
  {
   "cell_type": "markdown",
   "id": "915e6c26",
   "metadata": {},
   "source": [
    "<b> Q3. Implement a function that reverses a given string."
   ]
  },
  {
   "cell_type": "code",
   "execution_count": null,
   "id": "374219e9",
   "metadata": {},
   "outputs": [],
   "source": []
  },
  {
   "cell_type": "markdown",
   "id": "a3c4f696",
   "metadata": {},
   "source": [
    "<b> Q4. Create a function to find the maximum of three numbers."
   ]
  },
  {
   "cell_type": "code",
   "execution_count": null,
   "id": "1dcab99c",
   "metadata": {},
   "outputs": [],
   "source": []
  },
  {
   "cell_type": "markdown",
   "id": "fd86710a",
   "metadata": {},
   "source": [
    "<b> Q5. Write a function that counts the number of vowels in a string."
   ]
  },
  {
   "cell_type": "code",
   "execution_count": null,
   "id": "65392bb7",
   "metadata": {},
   "outputs": [],
   "source": []
  },
  {
   "cell_type": "markdown",
   "id": "a61e82d8",
   "metadata": {},
   "source": [
    "<b> Q6. Create a program that prints the Fibonacci series up to a given limit using a while loop."
   ]
  },
  {
   "cell_type": "code",
   "execution_count": null,
   "id": "b104b703",
   "metadata": {},
   "outputs": [],
   "source": []
  },
  {
   "cell_type": "markdown",
   "id": "9b358db4",
   "metadata": {},
   "source": [
    "<b> Q7. Write a program that generates a list of squares for numbers from 1 to 10 using a list comprehension."
   ]
  },
  {
   "cell_type": "code",
   "execution_count": null,
   "id": "8652b497",
   "metadata": {},
   "outputs": [],
   "source": []
  },
  {
   "cell_type": "markdown",
   "id": "8e9f2bbd",
   "metadata": {},
   "source": [
    "<b> Q8. Implement a program to find the factorial of a given number using a for loop."
   ]
  },
  {
   "cell_type": "code",
   "execution_count": null,
   "id": "673ef9ec",
   "metadata": {},
   "outputs": [],
   "source": []
  },
  {
   "cell_type": "markdown",
   "id": "56e7e5ed",
   "metadata": {},
   "source": [
    "<b> Q9. Create a program that prints the ASCII value of all lowercase letters using a for loop."
   ]
  },
  {
   "cell_type": "code",
   "execution_count": null,
   "id": "fb73a95e",
   "metadata": {},
   "outputs": [],
   "source": []
  },
  {
   "cell_type": "markdown",
   "id": "deaf6fec",
   "metadata": {},
   "source": [
    "<b> Q10. Write a program to calculate the sum of digits of a given number using a while loop."
   ]
  },
  {
   "cell_type": "code",
   "execution_count": null,
   "id": "97f40101",
   "metadata": {},
   "outputs": [],
   "source": []
  }
 ],
 "metadata": {
  "kernelspec": {
   "display_name": "Python 3 (ipykernel)",
   "language": "python",
   "name": "python3"
  },
  "language_info": {
   "codemirror_mode": {
    "name": "ipython",
    "version": 3
   },
   "file_extension": ".py",
   "mimetype": "text/x-python",
   "name": "python",
   "nbconvert_exporter": "python",
   "pygments_lexer": "ipython3",
   "version": "3.11.3"
  }
 },
 "nbformat": 4,
 "nbformat_minor": 5
}
