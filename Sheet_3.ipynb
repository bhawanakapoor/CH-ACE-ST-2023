{
 "cells": [
  {
   "cell_type": "markdown",
   "id": "4e95b841",
   "metadata": {},
   "source": [
    "<b> Q1. Write a function that finds the shortest word in a given sentence."
   ]
  },
  {
   "cell_type": "code",
   "execution_count": null,
   "id": "ef21244f",
   "metadata": {},
   "outputs": [],
   "source": []
  },
  {
   "cell_type": "markdown",
   "id": "011ad0ad",
   "metadata": {},
   "source": [
    "<b> Q2. Implement a function that removes duplicates from a list."
   ]
  },
  {
   "cell_type": "code",
   "execution_count": null,
   "id": "99182853",
   "metadata": {},
   "outputs": [],
   "source": []
  },
  {
   "cell_type": "markdown",
   "id": "ddcbc029",
   "metadata": {},
   "source": [
    "<b> Q3. Create a function that calculates the area of a circle given its radius."
   ]
  },
  {
   "cell_type": "code",
   "execution_count": null,
   "id": "b4c7bcc1",
   "metadata": {},
   "outputs": [],
   "source": []
  },
  {
   "cell_type": "markdown",
   "id": "63b34ac8",
   "metadata": {},
   "source": [
    "<b> Q4. Write a function that takes a list of words and returns the longest word."
   ]
  },
  {
   "cell_type": "code",
   "execution_count": null,
   "id": "fd3b3113",
   "metadata": {},
   "outputs": [],
   "source": []
  },
  {
   "cell_type": "markdown",
   "id": "17749635",
   "metadata": {},
   "source": [
    "<b> Q5. Implement a function to calculate the nth Fibonacci number."
   ]
  },
  {
   "cell_type": "code",
   "execution_count": null,
   "id": "589aba5c",
   "metadata": {},
   "outputs": [],
   "source": []
  },
  {
   "cell_type": "markdown",
   "id": "20fd5fb2",
   "metadata": {},
   "source": [
    "<b> Q6. Write a program that generates a list of numbers divisible by 5 and 7 up to a given limit using a for loop."
   ]
  },
  {
   "cell_type": "code",
   "execution_count": null,
   "id": "f2595932",
   "metadata": {},
   "outputs": [],
   "source": []
  },
  {
   "cell_type": "markdown",
   "id": "78028cc2",
   "metadata": {},
   "source": [
    "<b> Q7. Implement a program to calculate the sum of all digits in a list of numbers."
   ]
  },
  {
   "cell_type": "code",
   "execution_count": null,
   "id": "11945025",
   "metadata": {},
   "outputs": [],
   "source": []
  },
  {
   "cell_type": "markdown",
   "id": "ac49cc1f",
   "metadata": {},
   "source": [
    "<b> Q8. Create a program that prints a diamond pattern of stars."
   ]
  },
  {
   "cell_type": "code",
   "execution_count": null,
   "id": "ad85bba4",
   "metadata": {},
   "outputs": [],
   "source": []
  },
  {
   "cell_type": "markdown",
   "id": "ab555d55",
   "metadata": {},
   "source": [
    "<b> Q9. Write a program to find the factorial of a given number using recursion."
   ]
  },
  {
   "cell_type": "code",
   "execution_count": null,
   "id": "725ad8ee",
   "metadata": {},
   "outputs": [],
   "source": []
  },
  {
   "cell_type": "markdown",
   "id": "c5222cd1",
   "metadata": {},
   "source": [
    "<b> Q10. Implement a program that converts a binary number to its decimal equivalent using a while loop."
   ]
  },
  {
   "cell_type": "code",
   "execution_count": null,
   "id": "c3ab2acf",
   "metadata": {},
   "outputs": [],
   "source": []
  }
 ],
 "metadata": {
  "kernelspec": {
   "display_name": "Python 3 (ipykernel)",
   "language": "python",
   "name": "python3"
  },
  "language_info": {
   "codemirror_mode": {
    "name": "ipython",
    "version": 3
   },
   "file_extension": ".py",
   "mimetype": "text/x-python",
   "name": "python",
   "nbconvert_exporter": "python",
   "pygments_lexer": "ipython3",
   "version": "3.11.3"
  }
 },
 "nbformat": 4,
 "nbformat_minor": 5
}
