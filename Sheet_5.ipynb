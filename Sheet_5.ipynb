{
 "cells": [
  {
   "cell_type": "markdown",
   "id": "5064415b",
   "metadata": {},
   "source": [
    "<b> Q1. Implement a function to find the LCM (Least Common Multiple) of two numbers."
   ]
  },
  {
   "cell_type": "code",
   "execution_count": null,
   "id": "faa06009",
   "metadata": {},
   "outputs": [],
   "source": []
  },
  {
   "cell_type": "markdown",
   "id": "a6a232b1",
   "metadata": {},
   "source": [
    "<b> Q2. Create a function that calculates the area of a triangle given its base and height."
   ]
  },
  {
   "cell_type": "code",
   "execution_count": null,
   "id": "e745bd46",
   "metadata": {},
   "outputs": [],
   "source": []
  },
  {
   "cell_type": "markdown",
   "id": "f746d95c",
   "metadata": {},
   "source": [
    "<b> Q3. Write a function that checks if a given year is a leap year."
   ]
  },
  {
   "cell_type": "code",
   "execution_count": null,
   "id": "647fa1b8",
   "metadata": {},
   "outputs": [],
   "source": []
  },
  {
   "cell_type": "markdown",
   "id": "4e55b56b",
   "metadata": {},
   "source": [
    "<b> Q4. Implement a function that rotates the elements of a list by a specified number of positions."
   ]
  },
  {
   "cell_type": "code",
   "execution_count": null,
   "id": "c1ef3003",
   "metadata": {},
   "outputs": [],
   "source": []
  },
  {
   "cell_type": "markdown",
   "id": "f906ea4d",
   "metadata": {},
   "source": [
    "<b> Q5. Create a function to find the maximum of three numbers."
   ]
  },
  {
   "cell_type": "code",
   "execution_count": null,
   "id": "956ad764",
   "metadata": {},
   "outputs": [],
   "source": []
  },
  {
   "cell_type": "markdown",
   "id": "b77aef99",
   "metadata": {},
   "source": [
    "<b> Q6. Implement a program that generates a list of Fibonacci numbers up to a given limit using a while loop."
   ]
  },
  {
   "cell_type": "code",
   "execution_count": null,
   "id": "07b2b499",
   "metadata": {},
   "outputs": [],
   "source": []
  },
  {
   "cell_type": "markdown",
   "id": "6a07aeb2",
   "metadata": {},
   "source": [
    "<b> Q7. Create a program that calculates the LCM of two numbers using the GCD."
   ]
  },
  {
   "cell_type": "code",
   "execution_count": null,
   "id": "02a592bb",
   "metadata": {},
   "outputs": [],
   "source": []
  },
  {
   "cell_type": "markdown",
   "id": "a0e3372e",
   "metadata": {},
   "source": [
    "<b> Q8. Create a program that prints a pattern of stars in the shape of a right-angled triangle."
   ]
  },
  {
   "cell_type": "code",
   "execution_count": null,
   "id": "fe9d384c",
   "metadata": {},
   "outputs": [],
   "source": []
  },
  {
   "cell_type": "markdown",
   "id": "18a464f8",
   "metadata": {},
   "source": [
    "<b> Q9. Write a program that generates a list of numbers divisible by 5 and 7 up to a given limit using a for loop."
   ]
  },
  {
   "cell_type": "code",
   "execution_count": null,
   "id": "9e804b9b",
   "metadata": {},
   "outputs": [],
   "source": []
  },
  {
   "cell_type": "markdown",
   "id": "86835cfc",
   "metadata": {},
   "source": [
    "<b> Q10. Implement a program that counts the number of vowels in a given string using a for loop."
   ]
  },
  {
   "cell_type": "code",
   "execution_count": null,
   "id": "2152e449",
   "metadata": {},
   "outputs": [],
   "source": []
  }
 ],
 "metadata": {
  "kernelspec": {
   "display_name": "Python 3 (ipykernel)",
   "language": "python",
   "name": "python3"
  },
  "language_info": {
   "codemirror_mode": {
    "name": "ipython",
    "version": 3
   },
   "file_extension": ".py",
   "mimetype": "text/x-python",
   "name": "python",
   "nbconvert_exporter": "python",
   "pygments_lexer": "ipython3",
   "version": "3.11.3"
  }
 },
 "nbformat": 4,
 "nbformat_minor": 5
}
