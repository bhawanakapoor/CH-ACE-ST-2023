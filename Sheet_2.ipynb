{
 "cells": [
  {
   "cell_type": "markdown",
   "id": "caed85db",
   "metadata": {},
   "source": [
    "<b> Q1. Implement a function to check if a string is a palindrome."
   ]
  },
  {
   "cell_type": "code",
   "execution_count": null,
   "id": "2389bd29",
   "metadata": {},
   "outputs": [],
   "source": []
  },
  {
   "cell_type": "markdown",
   "id": "a6db71e2",
   "metadata": {},
   "source": [
    "<b> Q2. Create a function that generates a list of all prime numbers up to a given limit."
   ]
  },
  {
   "cell_type": "code",
   "execution_count": null,
   "id": "53c24c6b",
   "metadata": {},
   "outputs": [],
   "source": []
  },
  {
   "cell_type": "markdown",
   "id": "022be9c4",
   "metadata": {},
   "source": [
    "<b> Q3. Write a function that takes a list of numbers and returns their average."
   ]
  },
  {
   "cell_type": "code",
   "execution_count": null,
   "id": "3091e13f",
   "metadata": {},
   "outputs": [],
   "source": []
  },
  {
   "cell_type": "markdown",
   "id": "ca04ab65",
   "metadata": {},
   "source": [
    "<b> Q4. Implement a function to find the greatest common divisor (GCD) of two numbers."
   ]
  },
  {
   "cell_type": "code",
   "execution_count": null,
   "id": "71949c21",
   "metadata": {},
   "outputs": [],
   "source": []
  },
  {
   "cell_type": "markdown",
   "id": "bbb180f6",
   "metadata": {},
   "source": [
    "<b> Q5. Create a function that converts Celsius to Fahrenheit."
   ]
  },
  {
   "cell_type": "code",
   "execution_count": null,
   "id": "8b7feebb",
   "metadata": {},
   "outputs": [],
   "source": []
  },
  {
   "cell_type": "markdown",
   "id": "72923bcb",
   "metadata": {},
   "source": [
    "<b> Q6. Implement a program that counts the number of vowels in a given string using a for loop."
   ]
  },
  {
   "cell_type": "code",
   "execution_count": null,
   "id": "4d7bfd94",
   "metadata": {},
   "outputs": [],
   "source": []
  },
  {
   "cell_type": "markdown",
   "id": "2bd56959",
   "metadata": {},
   "source": [
    "<b> Q7. Create a program that finds the common elements between two lists using a for loop."
   ]
  },
  {
   "cell_type": "code",
   "execution_count": null,
   "id": "ab23fc23",
   "metadata": {},
   "outputs": [],
   "source": []
  },
  {
   "cell_type": "markdown",
   "id": "33d8377d",
   "metadata": {},
   "source": [
    "<b> Q8. Write a program to print the first n prime numbers using a while loop."
   ]
  },
  {
   "cell_type": "code",
   "execution_count": null,
   "id": "d8e715df",
   "metadata": {},
   "outputs": [],
   "source": []
  },
  {
   "cell_type": "markdown",
   "id": "6be3b63f",
   "metadata": {},
   "source": [
    "<b> Q9. Implement a program that calculates the square root of a number using the Newton-Raphson method."
   ]
  },
  {
   "cell_type": "code",
   "execution_count": null,
   "id": "f5759f5f",
   "metadata": {},
   "outputs": [],
   "source": []
  },
  {
   "cell_type": "markdown",
   "id": "83843b8f",
   "metadata": {},
   "source": [
    "<b> Q10. Create a program that prints a pattern of stars in the shape of a right-angled triangle."
   ]
  },
  {
   "cell_type": "code",
   "execution_count": null,
   "id": "fa358f87",
   "metadata": {},
   "outputs": [],
   "source": []
  }
 ],
 "metadata": {
  "kernelspec": {
   "display_name": "Python 3 (ipykernel)",
   "language": "python",
   "name": "python3"
  },
  "language_info": {
   "codemirror_mode": {
    "name": "ipython",
    "version": 3
   },
   "file_extension": ".py",
   "mimetype": "text/x-python",
   "name": "python",
   "nbconvert_exporter": "python",
   "pygments_lexer": "ipython3",
   "version": "3.11.3"
  }
 },
 "nbformat": 4,
 "nbformat_minor": 5
}
