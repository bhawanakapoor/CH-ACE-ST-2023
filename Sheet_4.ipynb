{
 "cells": [
  {
   "cell_type": "markdown",
   "id": "129a441f",
   "metadata": {},
   "source": [
    "<b> Q1. Create a function that converts a decimal number to binary."
   ]
  },
  {
   "cell_type": "code",
   "execution_count": null,
   "id": "c86f1efb",
   "metadata": {},
   "outputs": [],
   "source": []
  },
  {
   "cell_type": "markdown",
   "id": "3cd37dc9",
   "metadata": {},
   "source": [
    "<b> Q2. Write a function that sorts a list of numbers using the bubble sort algorithm."
   ]
  },
  {
   "cell_type": "code",
   "execution_count": null,
   "id": "db01e728",
   "metadata": {},
   "outputs": [],
   "source": []
  },
  {
   "cell_type": "markdown",
   "id": "c7b66133",
   "metadata": {},
   "source": [
    "<b> Q3. Implement a function to calculate the power of a number using recursion."
   ]
  },
  {
   "cell_type": "code",
   "execution_count": null,
   "id": "bbce7ca1",
   "metadata": {},
   "outputs": [],
   "source": []
  },
  {
   "cell_type": "markdown",
   "id": "a8b14988",
   "metadata": {},
   "source": [
    "<b> Q4. Create a function that finds the second largest number in a list."
   ]
  },
  {
   "cell_type": "code",
   "execution_count": null,
   "id": "e714612a",
   "metadata": {},
   "outputs": [],
   "source": []
  },
  {
   "cell_type": "markdown",
   "id": "c202d693",
   "metadata": {},
   "source": [
    "<b> Q5. Write a function that generates a random password of a specified length."
   ]
  },
  {
   "cell_type": "code",
   "execution_count": null,
   "id": "9e939f45",
   "metadata": {},
   "outputs": [],
   "source": []
  },
  {
   "cell_type": "markdown",
   "id": "7c7841dc",
   "metadata": {},
   "source": [
    "<b> Q6. Create a program that calculates the sum of all prime numbers between 1 and 100 using a for loop."
   ]
  },
  {
   "cell_type": "code",
   "execution_count": null,
   "id": "c23a4285",
   "metadata": {},
   "outputs": [],
   "source": []
  },
  {
   "cell_type": "markdown",
   "id": "8976e719",
   "metadata": {},
   "source": [
    "<b> Q7. Write a program that prints a pattern of numbers in a pyramid shape."
   ]
  },
  {
   "cell_type": "code",
   "execution_count": null,
   "id": "c8c0c68d",
   "metadata": {},
   "outputs": [],
   "source": []
  },
  {
   "cell_type": "markdown",
   "id": "3aa2c25e",
   "metadata": {},
   "source": [
    "<b> Q8. Implement a program that checks if a given string is a palindrome using a for loop."
   ]
  },
  {
   "cell_type": "code",
   "execution_count": null,
   "id": "998a3830",
   "metadata": {},
   "outputs": [],
   "source": []
  },
  {
   "cell_type": "markdown",
   "id": "7acddc9e",
   "metadata": {},
   "source": [
    "<b> Q9. Create a program that calculates the GCD of two numbers using the Euclidean algorithm."
   ]
  },
  {
   "cell_type": "code",
   "execution_count": null,
   "id": "4876cb59",
   "metadata": {},
   "outputs": [],
   "source": []
  },
  {
   "cell_type": "markdown",
   "id": "14d98a4a",
   "metadata": {},
   "source": [
    "<b> Q10. Write a program to find the factors of a given number using a for loop."
   ]
  },
  {
   "cell_type": "code",
   "execution_count": null,
   "id": "e9bf77b9",
   "metadata": {},
   "outputs": [],
   "source": []
  }
 ],
 "metadata": {
  "kernelspec": {
   "display_name": "Python 3 (ipykernel)",
   "language": "python",
   "name": "python3"
  },
  "language_info": {
   "codemirror_mode": {
    "name": "ipython",
    "version": 3
   },
   "file_extension": ".py",
   "mimetype": "text/x-python",
   "name": "python",
   "nbconvert_exporter": "python",
   "pygments_lexer": "ipython3",
   "version": "3.11.3"
  }
 },
 "nbformat": 4,
 "nbformat_minor": 5
}
