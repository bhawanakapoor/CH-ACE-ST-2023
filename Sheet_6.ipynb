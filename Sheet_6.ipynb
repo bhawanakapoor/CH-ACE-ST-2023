{
 "cells": [
  {
   "cell_type": "markdown",
   "id": "a8b94a15",
   "metadata": {},
   "source": [
    "<B> Q1. Write a function that finds the shortest word in a given sentence."
   ]
  },
  {
   "cell_type": "code",
   "execution_count": null,
   "id": "fa9577a3",
   "metadata": {},
   "outputs": [],
   "source": []
  },
  {
   "cell_type": "markdown",
   "id": "425034c1",
   "metadata": {},
   "source": [
    "<b> Q2. Implement a function that removes duplicates from a list."
   ]
  },
  {
   "cell_type": "code",
   "execution_count": null,
   "id": "eaaac642",
   "metadata": {},
   "outputs": [],
   "source": []
  },
  {
   "cell_type": "markdown",
   "id": "cefa7423",
   "metadata": {},
   "source": [
    "<B> Q3. Create a function that calculates the area of a circle given its radius."
   ]
  },
  {
   "cell_type": "code",
   "execution_count": null,
   "id": "e3578482",
   "metadata": {},
   "outputs": [],
   "source": []
  },
  {
   "cell_type": "markdown",
   "id": "e452f8d8",
   "metadata": {},
   "source": [
    "<B> Q4. Write a function that takes a list of words and returns the longest word."
   ]
  },
  {
   "cell_type": "code",
   "execution_count": null,
   "id": "b22619ef",
   "metadata": {},
   "outputs": [],
   "source": []
  },
  {
   "cell_type": "markdown",
   "id": "282e2bf1",
   "metadata": {},
   "source": [
    "<B> Q5. Implement a function to calculate the nth Fibonacci number."
   ]
  },
  {
   "cell_type": "code",
   "execution_count": null,
   "id": "6af4be7f",
   "metadata": {},
   "outputs": [],
   "source": []
  },
  {
   "cell_type": "markdown",
   "id": "97721ee1",
   "metadata": {},
   "source": [
    "<B> Q6. Write a program to calculate the sum of digits of a given number using a while loop."
   ]
  },
  {
   "cell_type": "code",
   "execution_count": null,
   "id": "bd7a3744",
   "metadata": {},
   "outputs": [],
   "source": []
  },
  {
   "cell_type": "markdown",
   "id": "0715e09e",
   "metadata": {},
   "source": [
    "<B> Q7. Implement a program that counts the number of vowels in a given string using a for loop."
   ]
  },
  {
   "cell_type": "code",
   "execution_count": null,
   "id": "cc8fdda9",
   "metadata": {},
   "outputs": [],
   "source": []
  },
  {
   "cell_type": "markdown",
   "id": "8bf446d7",
   "metadata": {},
   "source": [
    "<B> Q8. Create a program that finds the common elements between two lists using a for loop."
   ]
  },
  {
   "cell_type": "code",
   "execution_count": null,
   "id": "ed778613",
   "metadata": {},
   "outputs": [],
   "source": []
  },
  {
   "cell_type": "markdown",
   "id": "e02c8e19",
   "metadata": {},
   "source": [
    "<B> Q9. Write a program to print the first n prime numbers using a while loop."
   ]
  },
  {
   "cell_type": "code",
   "execution_count": null,
   "id": "44fbb877",
   "metadata": {},
   "outputs": [],
   "source": []
  },
  {
   "cell_type": "markdown",
   "id": "da2b9802",
   "metadata": {},
   "source": [
    "<B> Q10. Implement a program that calculates the square root of a number using the Newton-Raphson method."
   ]
  },
  {
   "cell_type": "code",
   "execution_count": null,
   "id": "6c11b5cf",
   "metadata": {},
   "outputs": [],
   "source": []
  }
 ],
 "metadata": {
  "kernelspec": {
   "display_name": "Python 3 (ipykernel)",
   "language": "python",
   "name": "python3"
  },
  "language_info": {
   "codemirror_mode": {
    "name": "ipython",
    "version": 3
   },
   "file_extension": ".py",
   "mimetype": "text/x-python",
   "name": "python",
   "nbconvert_exporter": "python",
   "pygments_lexer": "ipython3",
   "version": "3.11.3"
  }
 },
 "nbformat": 4,
 "nbformat_minor": 5
}
